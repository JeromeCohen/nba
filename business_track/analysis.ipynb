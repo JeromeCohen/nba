{
 "cells": [
  {
   "cell_type": "code",
   "execution_count": 1,
   "metadata": {},
   "outputs": [],
   "source": [
    "import pandas as pd\n",
    "import numpy as np\n",
    "import matplotlib.pyplot as plt\n",
    "\n",
    "#nlp\n",
    "import nltk\n",
    "import string \n",
    "import re\n",
    "from gensim.models import KeyedVectors\n",
    "from gensim.corpora import Dictionary\n",
    "\n",
    "#sklearn packages\n",
    "from sklearn.linear_model import ElasticNet\n",
    "from sklearn.linear_model import LinearRegression\n",
    "from sklearn.svm import LinearSVR\n",
    "from sklearn.svm import SVR\n",
    "\n",
    "#utils\n",
    "from sklearn.pipeline import Pipeline\n",
    "from sklearn.model_selection import train_test_split\n",
    "from sklearn.preprocessing import StandardScaler\n",
    "from sklearn.decomposition import PCA\n",
    "from hyperopt import STATUS_OK, Trials, fmin, hp, tpe\n",
    "\n",
    "\n",
    "#trees\n",
    "from sklearn.ensemble import AdaBoostRegressor\n",
    "from sklearn.ensemble import RandomForestRegressor\n",
    "import xgboost as xgb"
   ]
  },
  {
   "cell_type": "code",
   "execution_count": 2,
   "metadata": {},
   "outputs": [
    {
     "name": "stderr",
     "output_type": "stream",
     "text": [
      "[nltk_data] Downloading package stopwords to\n",
      "[nltk_data]     /Users/jeromecohen/nltk_data...\n",
      "[nltk_data]   Package stopwords is already up-to-date!\n",
      "[nltk_data] Downloading package punkt to\n",
      "[nltk_data]     /Users/jeromecohen/nltk_data...\n",
      "[nltk_data]   Package punkt is already up-to-date!\n"
     ]
    }
   ],
   "source": [
    "nltk.download('stopwords')\n",
    "nltk.download('punkt')\n",
    "from nltk.tokenize import TweetTokenizer\n",
    "from nltk.corpus import stopwords "
   ]
  },
  {
   "cell_type": "markdown",
   "metadata": {},
   "source": [
    "We used Google Collab (free GPU hours) to run a hyperparameter optimization once we found our best performing models. Uncomment code and have the training_set.csv and holdout_set.csv in the proper path to recreate. "
   ]
  },
  {
   "cell_type": "code",
   "execution_count": 3,
   "metadata": {},
   "outputs": [],
   "source": [
    "# from google.colab import drive\n",
    "# drive.mount('/content/gdrive')\n",
    "# gdrive = '/content/gdrive/My Drive/Colab Notebooks/'\n",
    "\n",
    "gdrive = ''\n",
    "training_df = pd.read_csv(gdrive + 'training_set.csv', encoding='ISO-8859-1')\n",
    "holdout_df = pd.read_csv(gdrive + 'holdout_set.csv', encoding='ISO-8859-1')"
   ]
  },
  {
   "cell_type": "code",
   "execution_count": 4,
   "metadata": {},
   "outputs": [],
   "source": [
    "\n",
    "def mean_absolute_percentage_error(y_true, y_pred): \n",
    "    y_true, y_pred = np.array(y_true), np.array(y_pred)\n",
    "    return np.mean(np.abs((y_true - y_pred) / y_true)) * 100"
   ]
  },
  {
   "cell_type": "markdown",
   "metadata": {},
   "source": [
    "# EDA "
   ]
  },
  {
   "cell_type": "code",
   "execution_count": 5,
   "metadata": {},
   "outputs": [
    {
     "data": {
      "text/html": [
       "<div>\n",
       "<style scoped>\n",
       "    .dataframe tbody tr th:only-of-type {\n",
       "        vertical-align: middle;\n",
       "    }\n",
       "\n",
       "    .dataframe tbody tr th {\n",
       "        vertical-align: top;\n",
       "    }\n",
       "\n",
       "    .dataframe thead th {\n",
       "        text-align: right;\n",
       "    }\n",
       "</style>\n",
       "<table border=\"1\" class=\"dataframe\">\n",
       "  <thead>\n",
       "    <tr style=\"text-align: right;\">\n",
       "      <th></th>\n",
       "      <th>Engagements</th>\n",
       "      <th>Followers at Posting</th>\n",
       "      <th>Created</th>\n",
       "      <th>Type</th>\n",
       "      <th>Description</th>\n",
       "    </tr>\n",
       "  </thead>\n",
       "  <tbody>\n",
       "    <tr>\n",
       "      <th>0</th>\n",
       "      <td>502093</td>\n",
       "      <td>36984682</td>\n",
       "      <td>2019-05-21 23:30:51 EDT</td>\n",
       "      <td>Video</td>\n",
       "      <td>The @raptors bench trio of @sergeibaka @norman...</td>\n",
       "    </tr>\n",
       "    <tr>\n",
       "      <th>1</th>\n",
       "      <td>603380</td>\n",
       "      <td>36984682</td>\n",
       "      <td>2019-05-21 22:53:33 EDT</td>\n",
       "      <td>Video</td>\n",
       "      <td>@kyle_lowry7 pulls from deep for the @raptors ...</td>\n",
       "    </tr>\n",
       "    <tr>\n",
       "      <th>2</th>\n",
       "      <td>603380</td>\n",
       "      <td>36984682</td>\n",
       "      <td>2019-05-21 22:19:58 EDT</td>\n",
       "      <td>Video</td>\n",
       "      <td>@k_mid22 with some english on the @bucks dime!</td>\n",
       "    </tr>\n",
       "    <tr>\n",
       "      <th>3</th>\n",
       "      <td>725100</td>\n",
       "      <td>36984682</td>\n",
       "      <td>2019-05-21 22:02:41 EDT</td>\n",
       "      <td>Video</td>\n",
       "      <td>Kawhi punches it home with the left on TNT!</td>\n",
       "    </tr>\n",
       "    <tr>\n",
       "      <th>4</th>\n",
       "      <td>661446</td>\n",
       "      <td>36984682</td>\n",
       "      <td>2019-05-21 20:47:49 EDT</td>\n",
       "      <td>Video</td>\n",
       "      <td>@giannis_an34 goes baseline early to rock the ...</td>\n",
       "    </tr>\n",
       "    <tr>\n",
       "      <th>5</th>\n",
       "      <td>322444</td>\n",
       "      <td>36955156</td>\n",
       "      <td>2019-05-21 14:02:32 EDT</td>\n",
       "      <td>Photo</td>\n",
       "      <td>Congrats to the 2018-19 NBA All-Rookie First T...</td>\n",
       "    </tr>\n",
       "    <tr>\n",
       "      <th>6</th>\n",
       "      <td>722540</td>\n",
       "      <td>36955156</td>\n",
       "      <td>2019-05-21 12:30:53 EDT</td>\n",
       "      <td>Video</td>\n",
       "      <td>The @warriors locked in for four games to adva...</td>\n",
       "    </tr>\n",
       "    <tr>\n",
       "      <th>7</th>\n",
       "      <td>339265</td>\n",
       "      <td>36955156</td>\n",
       "      <td>2019-05-21 08:59:02 EDT</td>\n",
       "      <td>Photo</td>\n",
       "      <td>Will the @bucks take a commanding 3-1 lead... ...</td>\n",
       "    </tr>\n",
       "    <tr>\n",
       "      <th>8</th>\n",
       "      <td>443330</td>\n",
       "      <td>36955156</td>\n",
       "      <td>2019-05-21 00:48:16 EDT</td>\n",
       "      <td>Photo</td>\n",
       "      <td>TAP to SHOP the @warriors Western Conference C...</td>\n",
       "    </tr>\n",
       "    <tr>\n",
       "      <th>9</th>\n",
       "      <td>652193</td>\n",
       "      <td>36955156</td>\n",
       "      <td>2019-05-21 00:38:18 EDT</td>\n",
       "      <td>Video</td>\n",
       "      <td>Hey @stephencurry30... that was the first time...</td>\n",
       "    </tr>\n",
       "  </tbody>\n",
       "</table>\n",
       "</div>"
      ],
      "text/plain": [
       "   Engagements  Followers at Posting                  Created   Type  \\\n",
       "0       502093              36984682  2019-05-21 23:30:51 EDT  Video   \n",
       "1       603380              36984682  2019-05-21 22:53:33 EDT  Video   \n",
       "2       603380              36984682  2019-05-21 22:19:58 EDT  Video   \n",
       "3       725100              36984682  2019-05-21 22:02:41 EDT  Video   \n",
       "4       661446              36984682  2019-05-21 20:47:49 EDT  Video   \n",
       "5       322444              36955156  2019-05-21 14:02:32 EDT  Photo   \n",
       "6       722540              36955156  2019-05-21 12:30:53 EDT  Video   \n",
       "7       339265              36955156  2019-05-21 08:59:02 EDT  Photo   \n",
       "8       443330              36955156  2019-05-21 00:48:16 EDT  Photo   \n",
       "9       652193              36955156  2019-05-21 00:38:18 EDT  Video   \n",
       "\n",
       "                                         Description  \n",
       "0  The @raptors bench trio of @sergeibaka @norman...  \n",
       "1  @kyle_lowry7 pulls from deep for the @raptors ...  \n",
       "2     @k_mid22 with some english on the @bucks dime!  \n",
       "3        Kawhi punches it home with the left on TNT!  \n",
       "4  @giannis_an34 goes baseline early to rock the ...  \n",
       "5  Congrats to the 2018-19 NBA All-Rookie First T...  \n",
       "6  The @warriors locked in for four games to adva...  \n",
       "7  Will the @bucks take a commanding 3-1 lead... ...  \n",
       "8  TAP to SHOP the @warriors Western Conference C...  \n",
       "9  Hey @stephencurry30... that was the first time...  "
      ]
     },
     "execution_count": 5,
     "metadata": {},
     "output_type": "execute_result"
    }
   ],
   "source": [
    "training_df.head(10)"
   ]
  },
  {
   "cell_type": "code",
   "execution_count": 6,
   "metadata": {},
   "outputs": [
    {
     "data": {
      "text/plain": [
       "Engagements              int64\n",
       "Followers at Posting     int64\n",
       "Created                 object\n",
       "Type                    object\n",
       "Description             object\n",
       "dtype: object"
      ]
     },
     "execution_count": 6,
     "metadata": {},
     "output_type": "execute_result"
    }
   ],
   "source": [
    "training_df.dtypes"
   ]
  },
  {
   "cell_type": "code",
   "execution_count": 7,
   "metadata": {},
   "outputs": [
    {
     "data": {
      "text/html": [
       "<div>\n",
       "<style scoped>\n",
       "    .dataframe tbody tr th:only-of-type {\n",
       "        vertical-align: middle;\n",
       "    }\n",
       "\n",
       "    .dataframe tbody tr th {\n",
       "        vertical-align: top;\n",
       "    }\n",
       "\n",
       "    .dataframe thead th {\n",
       "        text-align: right;\n",
       "    }\n",
       "</style>\n",
       "<table border=\"1\" class=\"dataframe\">\n",
       "  <thead>\n",
       "    <tr style=\"text-align: right;\">\n",
       "      <th></th>\n",
       "      <th>Engagements</th>\n",
       "      <th>Followers at Posting</th>\n",
       "    </tr>\n",
       "  </thead>\n",
       "  <tbody>\n",
       "    <tr>\n",
       "      <th>count</th>\n",
       "      <td>7.766000e+03</td>\n",
       "      <td>7.766000e+03</td>\n",
       "    </tr>\n",
       "    <tr>\n",
       "      <th>mean</th>\n",
       "      <td>5.923129e+05</td>\n",
       "      <td>3.042770e+07</td>\n",
       "    </tr>\n",
       "    <tr>\n",
       "      <th>std</th>\n",
       "      <td>1.792682e+05</td>\n",
       "      <td>3.748957e+06</td>\n",
       "    </tr>\n",
       "    <tr>\n",
       "      <th>min</th>\n",
       "      <td>1.278160e+05</td>\n",
       "      <td>2.487554e+07</td>\n",
       "    </tr>\n",
       "    <tr>\n",
       "      <th>25%</th>\n",
       "      <td>4.173900e+05</td>\n",
       "      <td>2.698910e+07</td>\n",
       "    </tr>\n",
       "    <tr>\n",
       "      <th>50%</th>\n",
       "      <td>6.397285e+05</td>\n",
       "      <td>3.004747e+07</td>\n",
       "    </tr>\n",
       "    <tr>\n",
       "      <th>75%</th>\n",
       "      <td>7.216282e+05</td>\n",
       "      <td>3.392854e+07</td>\n",
       "    </tr>\n",
       "    <tr>\n",
       "      <th>max</th>\n",
       "      <td>1.129585e+06</td>\n",
       "      <td>3.698468e+07</td>\n",
       "    </tr>\n",
       "  </tbody>\n",
       "</table>\n",
       "</div>"
      ],
      "text/plain": [
       "        Engagements  Followers at Posting\n",
       "count  7.766000e+03          7.766000e+03\n",
       "mean   5.923129e+05          3.042770e+07\n",
       "std    1.792682e+05          3.748957e+06\n",
       "min    1.278160e+05          2.487554e+07\n",
       "25%    4.173900e+05          2.698910e+07\n",
       "50%    6.397285e+05          3.004747e+07\n",
       "75%    7.216282e+05          3.392854e+07\n",
       "max    1.129585e+06          3.698468e+07"
      ]
     },
     "execution_count": 7,
     "metadata": {},
     "output_type": "execute_result"
    }
   ],
   "source": [
    "training_df.describe()"
   ]
  },
  {
   "cell_type": "code",
   "execution_count": 8,
   "metadata": {},
   "outputs": [
    {
     "data": {
      "text/plain": [
       "<matplotlib.axes._subplots.AxesSubplot at 0x10f8d63c8>"
      ]
     },
     "execution_count": 8,
     "metadata": {},
     "output_type": "execute_result"
    },
    {
     "data": {
      "image/png": "[encoded data removed]",
      "text/plain": [
       "<Figure size 432x288 with 1 Axes>"
      ]
     },
     "metadata": {
      "needs_background": "light"
     },
     "output_type": "display_data"
    }
   ],
   "source": [
    "training_df['Engagements'].hist()"
   ]
  },
  {
   "cell_type": "code",
   "execution_count": 9,
   "metadata": {},
   "outputs": [
    {
     "data": {
      "text/plain": [
       "<matplotlib.axes._subplots.AxesSubplot at 0x10fac7f98>"
      ]
     },
     "execution_count": 9,
     "metadata": {},
     "output_type": "execute_result"
    },
    {
     "data": {
      "image/png": "[encoded data removed]",
      "text/plain": [
       "<Figure size 432x288 with 1 Axes>"
      ]
     },
     "metadata": {
      "needs_background": "light"
     },
     "output_type": "display_data"
    }
   ],
   "source": [
    "training_df['Followers at Posting'].hist()"
   ]
  },
  {
   "cell_type": "code",
   "execution_count": 10,
   "metadata": {},
   "outputs": [
    {
     "name": "stdout",
     "output_type": "stream",
     "text": [
      "-0.05303107729361799\n"
     ]
    },
    {
     "data": {
      "image/png": "[encoded data removed]",
      "text/plain": [
       "<Figure size 432x288 with 1 Axes>"
      ]
     },
     "metadata": {
      "needs_background": "light"
     },
     "output_type": "display_data"
    }
   ],
   "source": [
    "x, y = training_df['Engagements'], training_df['Followers at Posting']\n",
    "print(x.corr(y))\n",
    "plt.plot(x, y)\n",
    "plt.show()"
   ]
  },
  {
   "cell_type": "code",
   "execution_count": 11,
   "metadata": {},
   "outputs": [
    {
     "data": {
      "text/plain": [
       "<matplotlib.axes._subplots.AxesSubplot at 0x10fac7438>"
      ]
     },
     "execution_count": 11,
     "metadata": {},
     "output_type": "execute_result"
    },
    {
     "data": {
      "image/png": "[encoded data removed]",
      "text/plain": [
       "<Figure size 432x288 with 1 Axes>"
      ]
     },
     "metadata": {
      "needs_background": "light"
     },
     "output_type": "display_data"
    }
   ],
   "source": [
    "training_df['Type'].hist()"
   ]
  },
  {
   "cell_type": "markdown",
   "metadata": {},
   "source": [
    "Videos seem to have substanially higher engagement."
   ]
  },
  {
   "cell_type": "code",
   "execution_count": 12,
   "metadata": {},
   "outputs": [
    {
     "data": {
      "text/html": [
       "<div>\n",
       "<style scoped>\n",
       "    .dataframe tbody tr th:only-of-type {\n",
       "        vertical-align: middle;\n",
       "    }\n",
       "\n",
       "    .dataframe tbody tr th {\n",
       "        vertical-align: top;\n",
       "    }\n",
       "\n",
       "    .dataframe thead th {\n",
       "        text-align: right;\n",
       "    }\n",
       "</style>\n",
       "<table border=\"1\" class=\"dataframe\">\n",
       "  <thead>\n",
       "    <tr style=\"text-align: right;\">\n",
       "      <th></th>\n",
       "      <th>Type</th>\n",
       "      <th>Engagements</th>\n",
       "      <th>Followers at Posting</th>\n",
       "    </tr>\n",
       "  </thead>\n",
       "  <tbody>\n",
       "    <tr>\n",
       "      <th>0</th>\n",
       "      <td>Album</td>\n",
       "      <td>348465.339411</td>\n",
       "      <td>3.081558e+07</td>\n",
       "    </tr>\n",
       "    <tr>\n",
       "      <th>1</th>\n",
       "      <td>Photo</td>\n",
       "      <td>357547.363636</td>\n",
       "      <td>3.055114e+07</td>\n",
       "    </tr>\n",
       "    <tr>\n",
       "      <th>2</th>\n",
       "      <td>Video</td>\n",
       "      <td>692773.575669</td>\n",
       "      <td>3.034095e+07</td>\n",
       "    </tr>\n",
       "  </tbody>\n",
       "</table>\n",
       "</div>"
      ],
      "text/plain": [
       "    Type    Engagements  Followers at Posting\n",
       "0  Album  348465.339411          3.081558e+07\n",
       "1  Photo  357547.363636          3.055114e+07\n",
       "2  Video  692773.575669          3.034095e+07"
      ]
     },
     "execution_count": 12,
     "metadata": {},
     "output_type": "execute_result"
    }
   ],
   "source": [
    "type_df = training_df.groupby('Type').mean().reset_index()\n",
    "type_df"
   ]
  },
  {
   "cell_type": "markdown",
   "metadata": {},
   "source": [
    "## Seasonality and Time Dependence "
   ]
  },
  {
   "cell_type": "markdown",
   "metadata": {},
   "source": [
    "Change columns to datetime "
   ]
  },
  {
   "cell_type": "code",
   "execution_count": 13,
   "metadata": {},
   "outputs": [],
   "source": [
    "training_df['Created'] = pd.to_datetime(training_df['Created'])\n",
    "holdout_df['Created'] = pd.to_datetime(holdout_df['Created'])"
   ]
  },
  {
   "cell_type": "code",
   "execution_count": 14,
   "metadata": {},
   "outputs": [],
   "source": [
    "year_df = training_df.groupby(training_df['Created'].dt.year).mean().reset_index()\n",
    "month_df = training_df.groupby(training_df['Created'].dt.month).mean().reset_index()\n",
    "day_df = training_df.groupby(training_df['Created'].dt.day).mean().reset_index()\n",
    "dayofweek_df = training_df.groupby(training_df['Created'].dt.dayofweek).mean().reset_index()"
   ]
  },
  {
   "cell_type": "code",
   "execution_count": 15,
   "metadata": {},
   "outputs": [
    {
     "data": {
      "image/png": "[encoded data removed]",
      "text/plain": [
       "<Figure size 432x288 with 1 Axes>"
      ]
     },
     "metadata": {
      "needs_background": "light"
     },
     "output_type": "display_data"
    }
   ],
   "source": [
    "x, y = year_df['Created'], year_df['Engagements']\n",
    "plt.plot(x, y)\n",
    "plt.show()"
   ]
  },
  {
   "cell_type": "markdown",
   "metadata": {},
   "source": [
    "Below we see large seasonality, most of which can be attributed to the NBA season / offseason. "
   ]
  },
  {
   "cell_type": "code",
   "execution_count": 16,
   "metadata": {},
   "outputs": [
    {
     "data": {
      "image/png": "[encoded data removed]",
      "text/plain": [
       "<Figure size 432x288 with 1 Axes>"
      ]
     },
     "metadata": {
      "needs_background": "light"
     },
     "output_type": "display_data"
    }
   ],
   "source": [
    "x, y = month_df['Created'], month_df['Engagements']\n",
    "plt.plot(x, y)\n",
    "plt.show()"
   ]
  },
  {
   "cell_type": "code",
   "execution_count": 17,
   "metadata": {},
   "outputs": [
    {
     "data": {
      "image/png": "[encoded data removed]",
      "text/plain": [
       "<Figure size 432x288 with 1 Axes>"
      ]
     },
     "metadata": {
      "needs_background": "light"
     },
     "output_type": "display_data"
    }
   ],
   "source": [
    "x, y = day_df['Created'], day_df['Engagements']\n",
    "plt.plot(x, y)\n",
    "plt.show()"
   ]
  },
  {
   "cell_type": "code",
   "execution_count": 18,
   "metadata": {},
   "outputs": [
    {
     "data": {
      "image/png": "[encoded data removed]",
      "text/plain": [
       "<Figure size 432x288 with 1 Axes>"
      ]
     },
     "metadata": {
      "needs_background": "light"
     },
     "output_type": "display_data"
    }
   ],
   "source": [
    "x, y = dayofweek_df['Created'], dayofweek_df['Engagements']\n",
    "plt.plot(x, y)\n",
    "plt.show()"
   ]
  },
  {
   "cell_type": "markdown",
   "metadata": {},
   "source": [
    "We see a decline in engagement as time goes on in the yearly aggregate, though we do not know what to attribute this decline to. More interestingly, we see that July is a low point for engagement (most likely due to the offseason). Twitter activity may be larger then. Additionally, Wednesday - often having many games - see the largest engagement of week days. However, Saturdays have the largest engagement by far. Now let us look at the effect of time on engagement."
   ]
  },
  {
   "cell_type": "code",
   "execution_count": 19,
   "metadata": {},
   "outputs": [
    {
     "data": {
      "image/png": "[encoded data removed]",
      "text/plain": [
       "<Figure size 432x288 with 1 Axes>"
      ]
     },
     "metadata": {
      "needs_background": "light"
     },
     "output_type": "display_data"
    }
   ],
   "source": [
    "training_df['Time'] = training_df['Created'].dt.time\n",
    "time_df = training_df.groupby('Time').mean().reset_index() \n",
    "x, y = time_df['Time'], time_df['Engagements']\n",
    "plt.plot(x, y)\n",
    "plt.show()"
   ]
  },
  {
   "cell_type": "markdown",
   "metadata": {},
   "source": [
    "The above graph is hard to interpret. Let us magnify in. We may also hypothesize that day of week has an effect on the effectiveness of a specific time for engagements. For example, weekday NBA games are at night but Sunday games can be in the early afternoon."
   ]
  },
  {
   "cell_type": "markdown",
   "metadata": {},
   "source": [
    "# Cleaning"
   ]
  },
  {
   "cell_type": "markdown",
   "metadata": {},
   "source": [
    "Simple cleaning: we drop null values"
   ]
  },
  {
   "cell_type": "code",
   "execution_count": 20,
   "metadata": {},
   "outputs": [],
   "source": [
    "training_df.dropna(inplace=True)\n",
    "holdout_df.dropna(subset=['Followers at Posting', 'Created', 'Type', 'Description'], inplace=True) "
   ]
  },
  {
   "cell_type": "markdown",
   "metadata": {},
   "source": [
    "We will now clean the descriptions for downstream tasks. This includes removing special characters and stopwords as well as tokenizing the descriptions "
   ]
  },
  {
   "cell_type": "code",
   "execution_count": 21,
   "metadata": {},
   "outputs": [],
   "source": [
    "def clean_desription(x): \n",
    "    english_stopwords = stopwords.words('english')\n",
    "    tokenizer = TweetTokenizer(preserve_case=False)\n",
    "    \n",
    "    #remove hashtags\n",
    "    x = re.sub(r'#', '', x)\n",
    "    \n",
    "    #remove mentions\n",
    "    x = re.sub(r'@', '', x)\n",
    "    \n",
    "    tokenized = tokenizer.tokenize(x)\n",
    "    description = []\n",
    "    for token in tokenized: \n",
    "        if (token not in english_stopwords) and (token not in string.punctuation): \n",
    "            description.append(token)\n",
    "            \n",
    "    \n",
    "    return description"
   ]
  },
  {
   "cell_type": "code",
   "execution_count": 22,
   "metadata": {},
   "outputs": [],
   "source": [
    "training_df['description_clean'] = training_df['Description'].apply(lambda x : clean_desription(x))\n",
    "holdout_df['description_clean'] = holdout_df['Description'].apply(lambda x : clean_desription(x))"
   ]
  },
  {
   "cell_type": "markdown",
   "metadata": {},
   "source": [
    "# Feature Engineering\n",
    "\n",
    "First, we count the number of mentions and hashtags to create simple numeric features. Then, we split the timestamp into four features and apply cyclical transformations where appropiate. Then, we one-hot encode categorical variables so that they can be fed into our models. Lastly, we will create word embedding vectors from the description text. "
   ]
  },
  {
   "cell_type": "markdown",
   "metadata": {},
   "source": [
    "## Getting Simple Numeric Features from Descriptions\n",
    "It would be interesting to explore if the number of followers of those mentioned in the descriptions has an effect on engagement. However, for now we will assume all mentions are equal. Addtionally, the popularity of the hashtag most likely has an effect on engagement. However, we will not pull in outside data. "
   ]
  },
  {
   "cell_type": "code",
   "execution_count": 23,
   "metadata": {},
   "outputs": [],
   "source": [
    "def count_mentions(description): \n",
    "    count = 0\n",
    "  \n",
    "    for d in description: \n",
    "        if d == '@': \n",
    "            count = count + 1\n",
    "    return count\n",
    "\n",
    "def count_hashtags(description): \n",
    "    count = 0\n",
    "  \n",
    "    for d in description: \n",
    "        if d == '#': \n",
    "            count = count + 1\n",
    "    return count"
   ]
  },
  {
   "cell_type": "code",
   "execution_count": 24,
   "metadata": {},
   "outputs": [],
   "source": [
    "training_df['Mentions'] = training_df['Description'].apply(lambda x : count_mentions(x))\n",
    "training_df['Hashtags'] = training_df['Description'].apply(lambda x : count_hashtags(x))\n",
    "\n",
    "holdout_df['Mentions'] = holdout_df['Description'].apply(lambda x : count_mentions(x))\n",
    "holdout_df['Hashtags'] = holdout_df['Description'].apply(lambda x : count_hashtags(x))"
   ]
  },
  {
   "cell_type": "markdown",
   "metadata": {},
   "source": [
    "## Categorical Encoding "
   ]
  },
  {
   "cell_type": "code",
   "execution_count": 25,
   "metadata": {},
   "outputs": [],
   "source": [
    "onehot_df = pd.get_dummies(training_df['Type'])\n",
    "training_df = pd.concat([training_df, onehot_df], axis=1)\n",
    "\n",
    "onehot_df = pd.get_dummies(holdout_df['Type'])\n",
    "holdout_df = pd.concat([holdout_df, onehot_df], axis=1)"
   ]
  },
  {
   "cell_type": "markdown",
   "metadata": {},
   "source": [
    "## Time Encoding"
   ]
  },
  {
   "cell_type": "code",
   "execution_count": 26,
   "metadata": {},
   "outputs": [],
   "source": [
    "#Create Features from timestamps\n",
    "\n",
    "#training\n",
    "training_df['Month'] = training_df['Created'].dt.month\n",
    "training_df['DayOfWeek'] = training_df['Created'].dt.dayofweek\n",
    "\n",
    "#holdout\n",
    "holdout_df['Month'] = holdout_df['Created'].dt.month\n",
    "holdout_df['DayOfWeek'] = holdout_df['Created'].dt.dayofweek"
   ]
  },
  {
   "cell_type": "markdown",
   "metadata": {},
   "source": [
    "To capture the cyclical nature of hours, months, etc we will apply a sin / cos transformation on these features"
   ]
  },
  {
   "cell_type": "code",
   "execution_count": 27,
   "metadata": {},
   "outputs": [],
   "source": [
    "#training\n",
    "training_df['hr_sin'] = np.sin(training_df['Created'].dt.hour*(2.*np.pi/24))\n",
    "training_df['hr_cos'] = np.cos(training_df['Created'].dt.hour*(2.*np.pi/24))\n",
    "training_df['dow_sin'] = np.sin(training_df['DayOfWeek']*(2.*np.pi/7))\n",
    "training_df['dow_cos'] = np.cos(training_df['DayOfWeek']*(2.*np.pi/7))\n",
    "training_df['mnth_sin'] = np.sin((training_df['Month']-1)*(2.*np.pi/12))\n",
    "training_df['mnth_cos'] = np.cos((training_df['Month']-1)*(2.*np.pi/12))\n",
    "training_df['day_sin'] = np.sin((training_df['Created'].dt.day)*(2.*np.pi/31)) \n",
    "training_df['day_cos'] = np.cos((training_df['Created'].dt.day)*(2.*np.pi/31))\n",
    "\n",
    "#holdout\n",
    "holdout_df['hr_sin'] = np.sin(holdout_df['Created'].dt.hour*(2.*np.pi/24))\n",
    "holdout_df['hr_cos'] = np.cos(holdout_df['Created'].dt.hour*(2.*np.pi/24))\n",
    "holdout_df['dow_sin'] = np.sin(holdout_df['DayOfWeek']*(2.*np.pi/7))\n",
    "holdout_df['dow_cos'] = np.cos(holdout_df['DayOfWeek']*(2.*np.pi/7))\n",
    "holdout_df['mnth_sin'] = np.sin((holdout_df['Month']-1)*(2.*np.pi/12))\n",
    "holdout_df['mnth_cos'] = np.cos((holdout_df['Month']-1)*(2.*np.pi/12))\n",
    "holdout_df['day_sin'] = np.sin((holdout_df['Created'].dt.day)*(2.*np.pi/31)) \n",
    "holdout_df['day_cos'] = np.cos((holdout_df['Created'].dt.day)*(2.*np.pi/31))"
   ]
  },
  {
   "cell_type": "code",
   "execution_count": 28,
   "metadata": {},
   "outputs": [],
   "source": [
    "training_df['Year'] = training_df['Created'].dt.year - 2017\n",
    "holdout_df['Year'] = holdout_df['Created'].dt.year - 2017"
   ]
  },
  {
   "cell_type": "markdown",
   "metadata": {},
   "source": [
    "## Word Embeddings"
   ]
  },
  {
   "cell_type": "markdown",
   "metadata": {},
   "source": [
    "### Helper Functions "
   ]
  },
  {
   "cell_type": "code",
   "execution_count": 29,
   "metadata": {},
   "outputs": [],
   "source": [
    "def count_words(gsdict, gsbow):\n",
    "    counts = np.zeros(len(gsdict))\n",
    "    for doc in gsbow: \n",
    "        for word in doc: \n",
    "            counts[word[0]] += word[1]\n",
    "    return counts.tolist() "
   ]
  },
  {
   "cell_type": "code",
   "execution_count": 30,
   "metadata": {},
   "outputs": [],
   "source": [
    "def densify(sparse, columns):\n",
    "    matrix = np.zeros((len(sparse), columns))\n",
    "    t = 0\n",
    "    for title in sparse: \n",
    "        for word in title: \n",
    "            matrix[t, word[0]] = word[1]\n",
    "        t = t + 1\n",
    "    return matrix "
   ]
  },
  {
   "cell_type": "code",
   "execution_count": 31,
   "metadata": {},
   "outputs": [],
   "source": [
    "def word_context(gsdict, gscorpus, window):\n",
    "    matrix = np.zeros((len(gsdict), len(gsdict)))\n",
    "    for title in gscorpus: \n",
    "        for w in range(len(title)): \n",
    "            index = gsdict.doc2idx([title[w]])\n",
    "            min_index = max(0, w - window)\n",
    "            max_index = min(w + window + 1, len(title))\n",
    "            for context in range(min_index, max_index): \n",
    "                if context != w: \n",
    "                    context_index = gsdict.doc2idx([title[context]])\n",
    "                    matrix[index, context_index] += 1\n",
    "    return sparsify(matrix)"
   ]
  },
  {
   "cell_type": "code",
   "execution_count": 32,
   "metadata": {},
   "outputs": [],
   "source": [
    "def sparsify(matrix): \n",
    "    words = np.empty(matrix.shape[0], dtype=object)\n",
    "    for word in range(matrix.shape[0]): \n",
    "        tuples = []\n",
    "        for context in range(matrix.shape[1]): \n",
    "            count = matrix[word, context]\n",
    "            if count != 0: \n",
    "                t = context, matrix[word, context]\n",
    "                tuples.append(t)\n",
    "        words[word] = tuples           \n",
    "    return words"
   ]
  },
  {
   "cell_type": "code",
   "execution_count": 33,
   "metadata": {},
   "outputs": [],
   "source": [
    "def sppmi(gswc, counts, logk): \n",
    "    length = len(gswc)\n",
    "    matrix = np.zeros(length, dtype=object)\n",
    "    w = 0\n",
    "    for word in gswc: \n",
    "        toAdd = []\n",
    "        for content in word: \n",
    "            log = np.log((content[1] * sum(counts)) / (counts[w] * counts[content[0]]))\n",
    "            sspmi = max(log - logk, 0)\n",
    "            new_tuple = content[0], sspmi\n",
    "            toAdd.append(new_tuple)\n",
    "        matrix[w] = toAdd\n",
    "        w += 1\n",
    "    return matrix     "
   ]
  },
  {
   "cell_type": "code",
   "execution_count": 34,
   "metadata": {},
   "outputs": [],
   "source": [
    "def vec2doc(gsbow, vectors):\n",
    "    matrix = np.zeros((len(gsbow), vectors.shape[1]), dtype=object)\n",
    "    i = 0\n",
    "    for doc in gsbow: \n",
    "        vector = np.zeros(vectors.shape[1])\n",
    "        for word in doc:\n",
    "            index = word[0]\n",
    "            count = word[1]\n",
    "            vector = vector + (count * vectors[index])\n",
    "        matrix[i] = vector\n",
    "        i += 1 \n",
    "    return matrix    "
   ]
  },
  {
   "cell_type": "markdown",
   "metadata": {},
   "source": [
    "### SPPMI Word-Content Matrix"
   ]
  },
  {
   "cell_type": "code",
   "execution_count": 35,
   "metadata": {},
   "outputs": [],
   "source": [
    "def get_sppmi(descriptions): \n",
    "    desc_dict = Dictionary(descriptions)\n",
    "    desc_bow = [desc_dict.doc2bow(desc) for desc in descriptions]\n",
    "    desc_counts = count_words(desc_dict, desc_bow)\n",
    "    desc_wc = word_context(desc_dict, descriptions, 2)\n",
    "    desc_sppmi = sppmi(desc_wc, desc_counts, 0)\n",
    "    desc_dense_sppmi = densify(desc_sppmi, len(desc_dict)) \n",
    "    return vec2doc(desc_bow, desc_dense_sppmi)"
   ]
  },
  {
   "cell_type": "code",
   "execution_count": 36,
   "metadata": {},
   "outputs": [],
   "source": [
    "descriptions = pd.concat([training_df['description_clean'], holdout_df['description_clean']])\n",
    "mid = len(training_df['description_clean'])\n",
    "all_sppmi = get_sppmi(descriptions)\n",
    "\n",
    "vecs_sppmi = all_sppmi[:mid]\n",
    "vecs_holdout_sppmi = all_sppmi[mid:]\n",
    "\n",
    "assert (len(vecs_sppmi) == len(training_df))\n",
    "assert (len(vecs_holdout_sppmi) == len(holdout_df))"
   ]
  },
  {
   "cell_type": "markdown",
   "metadata": {},
   "source": [
    "# Models\n",
    "## Regression"
   ]
  },
  {
   "cell_type": "markdown",
   "metadata": {},
   "source": [
    "We start of with simple linear regression as a baseline. Let us create a simple model before brining in our generated features."
   ]
  },
  {
   "cell_type": "code",
   "execution_count": 37,
   "metadata": {},
   "outputs": [
    {
     "name": "stdout",
     "output_type": "stream",
     "text": [
      "0.7329874110859584\n",
      "[-1.02450794e-03 -1.16699593e+05  2.26181965e+05 -1.09482372e+05]\n",
      "498405.3704118179\n",
      "12.944134105523682\n"
     ]
    }
   ],
   "source": [
    "X = np.array(training_df[['Followers at Posting', 'Album', 'Video', 'Photo']])\n",
    "y = np.array(training_df['Engagements'])\n",
    "\n",
    "X_train, X_test, y_train, y_test = train_test_split(X, y, test_size=0.2)\n",
    "\n",
    "model = LinearRegression().fit(X_train, y_train)\n",
    "print(model.score(X_test, y_test))\n",
    "print(model.coef_)\n",
    "print(model.intercept_)\n",
    "print(mean_absolute_percentage_error(y_test, model.predict(X_test)))"
   ]
  },
  {
   "cell_type": "code",
   "execution_count": 38,
   "metadata": {},
   "outputs": [
    {
     "name": "stdout",
     "output_type": "stream",
     "text": [
      "0.002418020305444024\n",
      "[[-0.00251557]]\n",
      "[667849.3232951]\n",
      "32.601401095659696\n"
     ]
    }
   ],
   "source": [
    "X = np.array(training_df['Followers at Posting']).reshape(-1, 1)\n",
    "y = np.array(training_df['Engagements']).reshape(-1, 1)\n",
    "\n",
    "X_train, X_test, y_train, y_test = train_test_split(X, y, test_size=0.2)\n",
    "\n",
    "model = LinearRegression().fit(X_train, y_train)\n",
    "print(model.score(X_test, y_test))\n",
    "print(model.coef_)\n",
    "print(model.intercept_)\n",
    "print(mean_absolute_percentage_error(y_test, model.predict(X_test)))"
   ]
  },
  {
   "cell_type": "markdown",
   "metadata": {},
   "source": [
    "### Regression with Description Metadata + Time"
   ]
  },
  {
   "cell_type": "code",
   "execution_count": 39,
   "metadata": {},
   "outputs": [
    {
     "name": "stdout",
     "output_type": "stream",
     "text": [
      "0.7955467717065124\n",
      "[-2.00652975e-04 -1.25077229e+05  2.33634626e+05 -1.08557396e+05\n",
      " -3.83493727e+04 -6.39553769e+03]\n",
      "530096.4989895321\n",
      "10.560346087703982\n"
     ]
    }
   ],
   "source": [
    "X = np.array(training_df[['Followers at Posting', 'Album', 'Video', 'Photo', 'Mentions', 'Hashtags']])\n",
    "y = np.array(training_df['Engagements'])\n",
    "\n",
    "X_train, X_test, y_train, y_test = train_test_split(X, y, test_size=0.2)\n",
    "\n",
    "model = LinearRegression().fit(X_train, y_train)\n",
    "print(model.score(X_test, y_test))\n",
    "print(model.coef_)\n",
    "print(model.intercept_)\n",
    "print(mean_absolute_percentage_error(y_test, model.predict(X_test)))"
   ]
  },
  {
   "cell_type": "markdown",
   "metadata": {},
   "source": [
    "We add in time as feature "
   ]
  },
  {
   "cell_type": "code",
   "execution_count": 40,
   "metadata": {},
   "outputs": [
    {
     "name": "stdout",
     "output_type": "stream",
     "text": [
      "0.8205659678428736\n",
      "[ 8.59855433e-05 -1.27293781e+05  2.33062770e+05 -1.05768990e+05\n",
      " -3.88553592e+04 -1.79656192e+03 -1.67281001e+04  2.09515684e+03\n",
      "  1.91571565e+04 -7.32237583e+03]\n",
      "513843.759132812\n",
      "10.167134533770277\n"
     ]
    }
   ],
   "source": [
    "X2 = np.array(training_df[['Followers at Posting', 'Album', 'Video', 'Photo', 'Mentions', 'Hashtags', 'dow_sin',\n",
    "                          'dow_cos', 'mnth_cos', 'mnth_sin']])\n",
    "y2 = np.array(training_df['Engagements'])\n",
    "\n",
    "X2_train, X2_test, y2_train, y2_test = train_test_split(X2, y2, test_size=0.2)\n",
    "\n",
    "model = LinearRegression().fit(X2_train, y2_train)\n",
    "print(model.score(X2_test, y2_test))\n",
    "print(model.coef_)\n",
    "print(model.intercept_)\n",
    "print(mean_absolute_percentage_error(y2_test, model.predict(X2_test)))"
   ]
  },
  {
   "cell_type": "code",
   "execution_count": 41,
   "metadata": {},
   "outputs": [],
   "source": [
    "X3 = np.array(training_df[['Followers at Posting', 'Album', 'Video', 'Photo', 'Mentions', 'Hashtags', 'dow_sin',\n",
    "                          'dow_cos', 'mnth_cos', 'mnth_sin', 'hr_sin', 'hr_cos', 'day_cos', 'day_sin', 'Year']])\n",
    "y3 = np.array(training_df['Engagements'])\n",
    "\n",
    "X3_train, X3_test, y3_train, y3_test = train_test_split(X3, y3, test_size=0.2)"
   ]
  },
  {
   "cell_type": "markdown",
   "metadata": {},
   "source": [
    "We now bring in all the features. It seems this is the best model so far and will be used as a baseline while exploring tree-based and other typed of models."
   ]
  },
  {
   "cell_type": "code",
   "execution_count": 42,
   "metadata": {},
   "outputs": [
    {
     "name": "stdout",
     "output_type": "stream",
     "text": [
      "0.8317014257679951\n",
      "[-4.58099885e-03 -1.28779782e+05  2.35150570e+05 -1.06370788e+05\n",
      " -3.69370975e+04  4.69874938e+03 -1.87267156e+04  2.82279005e+03\n",
      "  1.28457633e+04 -1.89655550e+04  1.41612566e+04  3.39451911e+04\n",
      "  4.05013060e+03 -6.51419835e+03  3.51863105e+04]\n",
      "606070.0873738462\n",
      "9.262322638343338\n"
     ]
    }
   ],
   "source": [
    "model = LinearRegression().fit(X3_train, y3_train)\n",
    "print(model.score(X3_test, y3_test))\n",
    "print(model.coef_)\n",
    "print(model.intercept_)\n",
    "print(mean_absolute_percentage_error(y3_test, model.predict(X3_test)))"
   ]
  },
  {
   "cell_type": "markdown",
   "metadata": {},
   "source": [
    "### Elastic Regression\n",
    "More of a sanity check then anything since we worked are way up to the largest model possible so far"
   ]
  },
  {
   "cell_type": "code",
   "execution_count": 43,
   "metadata": {},
   "outputs": [
    {
     "name": "stderr",
     "output_type": "stream",
     "text": [
      "/usr/local/lib/python3.7/site-packages/ipykernel_launcher.py:4: UserWarning: With alpha=0, this algorithm does not converge well. You are advised to use the LinearRegression estimator\n",
      "  after removing the cwd from sys.path.\n",
      "/usr/local/lib/python3.7/site-packages/sklearn/linear_model/coordinate_descent.py:475: UserWarning: Coordinate descent with no regularization may lead to unexpected results and is discouraged.\n",
      "  positive)\n"
     ]
    },
    {
     "name": "stdout",
     "output_type": "stream",
     "text": [
      "alpha is 0.0 9.262322638343337\n",
      "________________\n",
      "alpha is 0.1 10.523408805962502\n",
      "________________\n",
      "alpha is 0.2 12.22606070313224\n",
      "________________\n",
      "alpha is 0.3 13.84413436807942\n",
      "________________\n",
      "alpha is 0.4 15.290930095716268\n",
      "________________\n",
      "alpha is 0.5 16.547755610745856\n",
      "________________\n",
      "alpha is 0.6 17.64481518250806\n",
      "________________\n",
      "alpha is 0.7 18.605572394736527\n",
      "________________\n",
      "alpha is 0.8 19.45148043708531\n",
      "________________\n",
      "alpha is 0.9 20.205021514608987\n",
      "________________\n"
     ]
    },
    {
     "name": "stderr",
     "output_type": "stream",
     "text": [
      "/usr/local/lib/python3.7/site-packages/sklearn/linear_model/coordinate_descent.py:475: ConvergenceWarning: Objective did not converge. You might want to increase the number of iterations. Duality gap: 17072248464140.357, tolerance: 19820857119.19753\n",
      "  positive)\n"
     ]
    }
   ],
   "source": [
    "for i in range(10):\n",
    "    alpha = i / 10.0\n",
    "    model = ElasticNet(alpha)\n",
    "    model.fit(X3_train, y3_train)\n",
    "    print('alpha is ' + str(alpha) + ' ' + str(mean_absolute_percentage_error(y3_test, model.predict(X3_test))))\n",
    "    print('________________')"
   ]
  },
  {
   "cell_type": "markdown",
   "metadata": {},
   "source": [
    "It seems that all of the features we have chosen so far contribute to the model's performance. "
   ]
  },
  {
   "cell_type": "markdown",
   "metadata": {},
   "source": [
    "## ADABoost"
   ]
  },
  {
   "cell_type": "code",
   "execution_count": 44,
   "metadata": {},
   "outputs": [
    {
     "data": {
      "text/plain": [
       "AdaBoostRegressor(base_estimator=None, learning_rate=1.0, loss='linear',\n",
       "                  n_estimators=50, random_state=None)"
      ]
     },
     "execution_count": 44,
     "metadata": {},
     "output_type": "execute_result"
    }
   ],
   "source": [
    "model = AdaBoostRegressor()\n",
    "model.fit(X_train, y_train)"
   ]
  },
  {
   "cell_type": "code",
   "execution_count": 45,
   "metadata": {},
   "outputs": [
    {
     "name": "stdout",
     "output_type": "stream",
     "text": [
      "11.75885211680728\n"
     ]
    }
   ],
   "source": [
    "pred = model.predict(X_test)\n",
    "print(mean_absolute_percentage_error(y_test, pred))"
   ]
  },
  {
   "cell_type": "code",
   "execution_count": 46,
   "metadata": {},
   "outputs": [
    {
     "name": "stdout",
     "output_type": "stream",
     "text": [
      "11.916612186899956\n"
     ]
    }
   ],
   "source": [
    "model = AdaBoostRegressor() #with cyclical features\n",
    "model.fit(X2_train, y2_train)\n",
    "pred = model.predict(X2_test)\n",
    "print(mean_absolute_percentage_error(y2_test, pred))"
   ]
  },
  {
   "cell_type": "code",
   "execution_count": 47,
   "metadata": {},
   "outputs": [
    {
     "name": "stdout",
     "output_type": "stream",
     "text": [
      "11.427988553281319\n"
     ]
    }
   ],
   "source": [
    "model = AdaBoostRegressor() #with cyclical features\n",
    "model.fit(X3_train, y3_train)\n",
    "pred = model.predict(X3_test)\n",
    "print(mean_absolute_percentage_error(y3_test, pred))"
   ]
  },
  {
   "cell_type": "markdown",
   "metadata": {},
   "source": [
    "## Random Forest"
   ]
  },
  {
   "cell_type": "code",
   "execution_count": 48,
   "metadata": {},
   "outputs": [
    {
     "name": "stdout",
     "output_type": "stream",
     "text": [
      "8.71267691228496\n"
     ]
    }
   ],
   "source": [
    "model = RandomForestRegressor(n_estimators=500)\n",
    "model.fit(X_train, y_train)\n",
    "pred = model.predict(X_test)\n",
    "print(mean_absolute_percentage_error(y_test, pred))"
   ]
  },
  {
   "cell_type": "code",
   "execution_count": 49,
   "metadata": {},
   "outputs": [
    {
     "name": "stdout",
     "output_type": "stream",
     "text": [
      "8.256503295857524\n"
     ]
    }
   ],
   "source": [
    "model = RandomForestRegressor(n_estimators=500)\n",
    "model.fit(X2_train, y2_train)\n",
    "pred = model.predict(X2_test)\n",
    "print(mean_absolute_percentage_error(y2_test, pred))"
   ]
  },
  {
   "cell_type": "markdown",
   "metadata": {},
   "source": [
    "Random forest provides the best model so far "
   ]
  },
  {
   "cell_type": "code",
   "execution_count": 50,
   "metadata": {},
   "outputs": [
    {
     "name": "stdout",
     "output_type": "stream",
     "text": [
      "7.1043789529003325\n"
     ]
    }
   ],
   "source": [
    "model = RandomForestRegressor(n_estimators=500)\n",
    "model.fit(X3_train, y3_train)\n",
    "pred = model.predict(X3_test)\n",
    "print(mean_absolute_percentage_error(y3_test, pred))"
   ]
  },
  {
   "cell_type": "code",
   "execution_count": 51,
   "metadata": {},
   "outputs": [
    {
     "name": "stdout",
     "output_type": "stream",
     "text": [
      "7.111208250058969\n"
     ]
    }
   ],
   "source": [
    "#scaling\n",
    "copy_train = StandardScaler().fit_transform(X3_train)\n",
    "copy_test = StandardScaler().fit_transform(X3_test)\n",
    "model = RandomForestRegressor(n_estimators=500)\n",
    "model.fit(copy_train, y3_train)\n",
    "pred = model.predict(copy_test)\n",
    "print(mean_absolute_percentage_error(y3_test, pred))"
   ]
  },
  {
   "cell_type": "markdown",
   "metadata": {},
   "source": [
    "## XGBoost"
   ]
  },
  {
   "cell_type": "markdown",
   "metadata": {},
   "source": [
    "We train on the these features to start: 'Followers at Posting', 'Album', 'Video', 'Photo', 'Mentions', 'Hashtags'"
   ]
  },
  {
   "cell_type": "code",
   "execution_count": 52,
   "metadata": {},
   "outputs": [],
   "source": [
    "dtrain = xgb.DMatrix(X_train, label=y_train)\n",
    "param = {\n",
    "    'max_depth': 5, \n",
    "    'eta': 0.3}  \n",
    "num_round = 500 "
   ]
  },
  {
   "cell_type": "code",
   "execution_count": 53,
   "metadata": {},
   "outputs": [],
   "source": [
    "bst = xgb.train(param, dtrain, num_round)"
   ]
  },
  {
   "cell_type": "code",
   "execution_count": 54,
   "metadata": {},
   "outputs": [
    {
     "name": "stdout",
     "output_type": "stream",
     "text": [
      "8.813995502608705\n"
     ]
    }
   ],
   "source": [
    "dtest = xgb.DMatrix(X_test)\n",
    "pred_xgb = bst.predict(dtest)\n",
    "print(mean_absolute_percentage_error(y_test, pred_xgb))"
   ]
  },
  {
   "cell_type": "markdown",
   "metadata": {},
   "source": [
    "We now provide all of the features that led to our best performing regression model. With an MAPE of 8.09, this model is not as good as the random forest but based on prior experience we will get further mileage out of XGBoost by adding word embedding and tuning hyperparameters than random forest. The baseline XGBoost is not dramatically worse than random forest to suggest otherwise. "
   ]
  },
  {
   "cell_type": "code",
   "execution_count": 55,
   "metadata": {},
   "outputs": [
    {
     "name": "stdout",
     "output_type": "stream",
     "text": [
      "7.920115917601052\n"
     ]
    }
   ],
   "source": [
    "X3 = training_df[['Followers at Posting', 'Album', 'Video', 'Photo', 'Mentions', 'Hashtags', 'dow_sin',\n",
    "                          'dow_cos', 'mnth_cos', 'mnth_sin', 'hr_sin', 'hr_cos', 'day_cos', 'day_sin', 'Year']]\n",
    "y3 = training_df['Engagements']\n",
    "dtrain = xgb.DMatrix(X3_train, label=y3_train)\n",
    "bst = xgb.train(param, dtrain, num_round)\n",
    "dtest = xgb.DMatrix(X3_test)\n",
    "pred_xgb = bst.predict(dtest)\n",
    "print(mean_absolute_percentage_error(y3_test, pred_xgb))"
   ]
  },
  {
   "cell_type": "code",
   "execution_count": 56,
   "metadata": {},
   "outputs": [
    {
     "data": {
      "text/plain": [
       "<matplotlib.axes._subplots.AxesSubplot at 0x1190e4c18>"
      ]
     },
     "execution_count": 56,
     "metadata": {},
     "output_type": "execute_result"
    },
    {
     "data": {
      "image/png": "[encoded data removed]",
      "text/plain": [
       "<Figure size 432x288 with 1 Axes>"
      ]
     },
     "metadata": {
      "needs_background": "light"
     },
     "output_type": "display_data"
    }
   ],
   "source": [
    "xgb.plot_importance(bst)"
   ]
  },
  {
   "cell_type": "markdown",
   "metadata": {},
   "source": [
    "Standarad Scale features as a sanity check, but then again many of our features are already between 0-1 due to sin / cos transformations, one-hot encoding, and such."
   ]
  },
  {
   "cell_type": "code",
   "execution_count": 57,
   "metadata": {},
   "outputs": [
    {
     "name": "stdout",
     "output_type": "stream",
     "text": [
      "8.375243494968867\n"
     ]
    }
   ],
   "source": [
    "#scaling\n",
    "copy_train = StandardScaler().fit_transform(X3_train)\n",
    "copy_test = StandardScaler().fit_transform(X3_test)\n",
    "dtrain = xgb.DMatrix(copy_train, label=y3_train)\n",
    "bst = xgb.train(param, dtrain, num_round)\n",
    "dtest = xgb.DMatrix(copy_test)\n",
    "pred_xgb = bst.predict(dtest)\n",
    "print(mean_absolute_percentage_error(y3_test, pred_xgb))"
   ]
  },
  {
   "cell_type": "markdown",
   "metadata": {},
   "source": [
    "## Support Vector Machines"
   ]
  },
  {
   "cell_type": "markdown",
   "metadata": {},
   "source": [
    "Surprisingly bad results, could probably achieve better performance with some hyperparemeter tuning. "
   ]
  },
  {
   "cell_type": "code",
   "execution_count": 58,
   "metadata": {},
   "outputs": [
    {
     "data": {
      "text/plain": [
       "Pipeline(memory=None,\n",
       "         steps=[('scaler',\n",
       "                 StandardScaler(copy=True, with_mean=True, with_std=True)),\n",
       "                ('linear_svr',\n",
       "                 LinearSVR(C=1, dual=True, epsilon=0.0, fit_intercept=True,\n",
       "                           intercept_scaling=1.0, loss='epsilon_insensitive',\n",
       "                           max_iter=1000, random_state=None, tol=0.0001,\n",
       "                           verbose=0))],\n",
       "         verbose=False)"
      ]
     },
     "execution_count": 58,
     "metadata": {},
     "output_type": "execute_result"
    }
   ],
   "source": [
    "svm_clf = Pipeline([\n",
    "    ('scaler', StandardScaler()),\n",
    "    ('linear_svr', LinearSVR(C=1))\n",
    "])\n",
    "svm_clf.fit(X3_train, y3_train)"
   ]
  },
  {
   "cell_type": "code",
   "execution_count": 59,
   "metadata": {},
   "outputs": [
    {
     "name": "stdout",
     "output_type": "stream",
     "text": [
      "98.81627834221325\n",
      "-10.439513722546375\n"
     ]
    }
   ],
   "source": [
    "pred_svm = svm_clf.predict(X3_test)\n",
    "print(mean_absolute_percentage_error(y3_test, pred_svm))\n",
    "print(svm_clf.score(X3_test, y3_test))"
   ]
  },
  {
   "cell_type": "markdown",
   "metadata": {},
   "source": [
    "Changing the kernel provides a dramatically better model but still nowhere near our linear regression baseline"
   ]
  },
  {
   "cell_type": "code",
   "execution_count": 60,
   "metadata": {},
   "outputs": [
    {
     "name": "stdout",
     "output_type": "stream",
     "text": [
      "[LibSVM]32.16209283670682\n"
     ]
    }
   ],
   "source": [
    "svm_clf = Pipeline([\n",
    "    ('scaler', StandardScaler()),\n",
    "    ('svc', SVR(kernel='poly', degree=3, coef0=1, C=5, verbose=True))\n",
    "])\n",
    "svm_clf.fit(X3_train, y3_train)\n",
    "pred_svm = svm_clf.predict(X3_test)\n",
    "print(mean_absolute_percentage_error(y3_test, pred_svm))"
   ]
  },
  {
   "cell_type": "code",
   "execution_count": 61,
   "metadata": {},
   "outputs": [
    {
     "name": "stdout",
     "output_type": "stream",
     "text": [
      "[LibSVM]34.410290959794345\n"
     ]
    }
   ],
   "source": [
    "svm_clf = Pipeline([\n",
    "    ('scaler', StandardScaler()),\n",
    "    ('svc', SVR(kernel='rbf', gamma=5, C=0.001, verbose=True))\n",
    "])\n",
    "svm_clf.fit(X3_train, y3_train)\n",
    "pred_svm = svm_clf.predict(X3_test)\n",
    "print(mean_absolute_percentage_error(y3_test, pred_svm))"
   ]
  },
  {
   "cell_type": "markdown",
   "metadata": {},
   "source": [
    "# Going Further"
   ]
  },
  {
   "cell_type": "markdown",
   "metadata": {},
   "source": [
    "We add in our word embeddings as features "
   ]
  },
  {
   "cell_type": "code",
   "execution_count": 62,
   "metadata": {},
   "outputs": [],
   "source": [
    "X3 = np.array(training_df[['Followers at Posting', 'Album', 'Video', 'Photo', 'Mentions', 'Hashtags', 'dow_sin',\n",
    "                          'dow_cos', 'mnth_cos', 'mnth_sin', 'hr_sin', 'hr_cos', 'day_cos', 'day_sin', 'Year']])\n",
    "y3 = np.array(training_df['Engagements'])\n",
    "\n",
    "X = np.hstack((vecs_sppmi, X3))\n",
    "\n",
    "X6_train, X6_test, y6_train, y6_test = train_test_split(X, y3, test_size=0.2)"
   ]
  },
  {
   "cell_type": "markdown",
   "metadata": {},
   "source": [
    "## Hyeropt"
   ]
  },
  {
   "cell_type": "markdown",
   "metadata": {},
   "source": [
    "This section was run on Google Collab. The resulting best parameters are found in 5.2."
   ]
  },
  {
   "cell_type": "code",
   "execution_count": 63,
   "metadata": {},
   "outputs": [],
   "source": [
    "SEED = 314159265\n",
    "VALID_SIZE = 0.2\n",
    "TARGET = 'outcome'\n",
    "\n",
    "def score(params):\n",
    "    print(\"Training with params: \")\n",
    "    print(params)\n",
    "    num_round = int(params['n_estimators'])\n",
    "    del params['n_estimators']\n",
    "    dtrain = xgb.DMatrix(train_features, label=y_train)\n",
    "    dvalid = xgb.DMatrix(valid_features, label=y_valid)\n",
    "    watchlist = [(dvalid, 'eval'), (dtrain, 'train')]\n",
    "    gbm_model = xgb.train(params, dtrain, num_round,\n",
    "                          evals=watchlist,\n",
    "                          verbose_eval=True)\n",
    "    predictions = gbm_model.predict(dvalid,\n",
    "                                    ntree_limit=gbm_model.best_iteration + 1)\n",
    "    score = mean_absolute_percentage_error(y_valid, predictions)\n",
    "    # TODO: Add the importance for the selected features\n",
    "    print(\"\\tScore {0}\\n\\n\".format(score))\n",
    "    # The score function should return the loss (1-score)\n",
    "    # since the optimize function looks for the minimum\n",
    "    loss = score\n",
    "    return {'loss': loss, 'status': STATUS_OK}\n",
    "\n",
    "\n",
    "def optimize(\n",
    "             #trials, \n",
    "             random_state=SEED):\n",
    "    \"\"\"\n",
    "    This is the optimization function that given a space (space here) of \n",
    "    hyperparameters and a scoring function (score here), finds the best hyperparameters.\n",
    "    \"\"\"\n",
    "    # To learn more about XGBoost parameters, head to this page: \n",
    "    # https://github.com/dmlc/xgboost/blob/master/doc/parameter.md\n",
    "    space = {\n",
    "        'n_estimators': hp.quniform('n_estimators', 100, 1000, 1),\n",
    "        'eta': hp.quniform('eta', 0.025, 0.5, 0.025),\n",
    "        # A problem with max_depth casted to float instead of int with\n",
    "        # the hp.quniform method.\n",
    "        'max_depth':  hp.choice('max_depth', np.arange(1, 14, dtype=int)),\n",
    "        'min_child_weight': hp.quniform('min_child_weight', 1, 6, 1),\n",
    "        'subsample': hp.quniform('subsample', 0.5, 1, 0.05),\n",
    "        'gamma': hp.quniform('gamma', 0.5, 1, 0.05),\n",
    "        'colsample_bytree': hp.quniform('colsample_bytree', 0.5, 1, 0.05),\n",
    "        'eval_metric': 'mae',\n",
    "        'silent': 1,\n",
    "        'seed': random_state\n",
    "    }\n",
    "    # Use the fmin function from Hyperopt to find the best hyperparameters\n",
    "    best = fmin(score, space, algo=tpe.suggest, \n",
    "                # trials=trials, \n",
    "                max_evals=250)\n",
    "    return best"
   ]
  },
  {
   "cell_type": "code",
   "execution_count": 64,
   "metadata": {},
   "outputs": [],
   "source": [
    "train_features = X6_train\n",
    "valid_features = X6_test\n",
    "y_train = y6_train\n",
    "y_valid = y6_test"
   ]
  },
  {
   "cell_type": "code",
   "execution_count": 66,
   "metadata": {},
   "outputs": [],
   "source": [
    "best_hyperparams = optimize(\n",
    "                            #trials\n",
    "                            )\n",
    "print(\"The best hyperparameters are: \", \"\\n\")\n",
    "print(best_hyperparams)"
   ]
  },
  {
   "cell_type": "markdown",
   "metadata": {},
   "source": [
    "## BEST MODEL SO FAR"
   ]
  },
  {
   "cell_type": "code",
   "execution_count": 67,
   "metadata": {},
   "outputs": [
    {
     "name": "stdout",
     "output_type": "stream",
     "text": [
      "3.0889571625407153\n"
     ]
    }
   ],
   "source": [
    "param = {'eta': 0.07500000000000001, \n",
    "         'gamma': 0.5,\n",
    "         'max_depth': 7, \n",
    "         'min_child_weight': 5.0, \n",
    "         'n_estimators': 740.0,\n",
    "         'seed': 314159265,\n",
    "         'subsample': 0.9500000000000001}\n",
    "num_round = int(param['n_estimators'])\n",
    "\n",
    "dtrain = xgb.DMatrix(X6_train, label=y6_train)\n",
    "bst = xgb.train(param, dtrain, num_round)\n",
    "\n",
    "dtest = xgb.DMatrix(X6_test)\n",
    "pred_combo = bst.predict(dtest)\n",
    "print(mean_absolute_percentage_error(y6_test, pred_combo))"
   ]
  },
  {
   "cell_type": "markdown",
   "metadata": {},
   "source": [
    "## PCA on SPPMI Matrix\n",
    "Having the number of features we do seems counterproductive to generalization so let us see if PCA is helpful"
   ]
  },
  {
   "cell_type": "code",
   "execution_count": 68,
   "metadata": {},
   "outputs": [],
   "source": [
    "pca = PCA(n_components=500)\n",
    "copy = vecs_sppmi.copy()\n",
    "vecs_reduced_sppmi = pca.fit_transform(copy)"
   ]
  },
  {
   "cell_type": "code",
   "execution_count": 69,
   "metadata": {},
   "outputs": [
    {
     "name": "stdout",
     "output_type": "stream",
     "text": [
      "4.5994501863011825\n"
     ]
    }
   ],
   "source": [
    "X3 = np.array(training_df[['Followers at Posting', 'Album', 'Video', 'Photo', 'Mentions', 'Hashtags', 'dow_sin',\n",
    "                          'dow_cos', 'mnth_cos', 'mnth_sin', 'hr_sin', 'hr_cos', 'day_cos', 'day_sin', 'Year']])\n",
    "y3 = np.array(training_df['Engagements'])\n",
    "\n",
    "X = np.hstack((vecs_reduced_sppmi, X3))\n",
    "\n",
    "X7_train, X7_test, y7_train, y7_test = train_test_split(X, y3, test_size=0.2)\n",
    "\n",
    "dtrain = xgb.DMatrix(X7_train, label=y7_train)\n",
    "bst = xgb.train(param, dtrain, num_round)\n",
    "\n",
    "dtest = xgb.DMatrix(X7_test)\n",
    "pred_combo = bst.predict(dtest)\n",
    "print(mean_absolute_percentage_error(y7_test, pred_combo))"
   ]
  },
  {
   "cell_type": "markdown",
   "metadata": {},
   "source": [
    "## Generating Submission Predictions "
   ]
  },
  {
   "cell_type": "markdown",
   "metadata": {},
   "source": [
    "We retrain our model on all of the data instead of splitting for a validation set "
   ]
  },
  {
   "cell_type": "code",
   "execution_count": 70,
   "metadata": {},
   "outputs": [],
   "source": [
    "X = np.array(training_df[['Followers at Posting', 'Album', 'Video', 'Photo', 'Mentions', 'Hashtags', 'dow_sin',\n",
    "                          'dow_cos', 'mnth_cos', 'mnth_sin', 'hr_sin', 'hr_cos', 'day_cos', 'day_sin', 'Year']])\n",
    "y = np.array(training_df['Engagements'])\n",
    "\n",
    "X_train = np.hstack((X, vecs_sppmi))"
   ]
  },
  {
   "cell_type": "code",
   "execution_count": 71,
   "metadata": {},
   "outputs": [],
   "source": [
    "xh = np.array(holdout_df[['Followers at Posting', 'Album', 'Video', 'Photo', 'Mentions', 'Hashtags', 'dow_sin',\n",
    "                          'dow_cos', 'mnth_cos', 'mnth_sin', 'hr_sin', 'hr_cos', 'day_cos', 'day_sin', 'Year']])\n",
    "X_holdout = np.hstack((xh, vecs_holdout_sppmi))"
   ]
  },
  {
   "cell_type": "code",
   "execution_count": 72,
   "metadata": {},
   "outputs": [],
   "source": [
    "dtrain = xgb.DMatrix(X_train, label=y)\n",
    "bst = xgb.train(param, dtrain, num_round)"
   ]
  },
  {
   "cell_type": "code",
   "execution_count": 75,
   "metadata": {},
   "outputs": [],
   "source": [
    "holdout = xgb.DMatrix(X_holdout)\n",
    "pred = bst.predict(holdout)"
   ]
  },
  {
   "cell_type": "code",
   "execution_count": 76,
   "metadata": {},
   "outputs": [],
   "source": [
    "holdout_df['Engagements'] = pred"
   ]
  },
  {
   "cell_type": "code",
   "execution_count": null,
   "metadata": {},
   "outputs": [],
   "source": [
    "holdout_df.to_csv('holdout_set_bioballers.csv')"
   ]
  },
  {
   "cell_type": "markdown",
   "metadata": {},
   "source": [
    "Sanity Check: Assuming the data generation process for the holdout and training are the same, the distribution of our predictions should be relatively similar to the distribution of engagements in the traing set. We see this. "
   ]
  },
  {
   "cell_type": "code",
   "execution_count": 77,
   "metadata": {},
   "outputs": [
    {
     "data": {
      "text/plain": [
       "<matplotlib.axes._subplots.AxesSubplot at 0x19bdafa58>"
      ]
     },
     "execution_count": 77,
     "metadata": {},
     "output_type": "execute_result"
    },
    {
     "data": {
      "image/png": "[encoded data removed]",
      "text/plain": [
       "<Figure size 432x288 with 1 Axes>"
      ]
     },
     "metadata": {
      "needs_background": "light"
     },
     "output_type": "display_data"
    }
   ],
   "source": [
    "holdout_df['Engagements'].hist()"
   ]
  },
  {
   "cell_type": "code",
   "execution_count": 74,
   "metadata": {},
   "outputs": [
    {
     "data": {
      "text/plain": [
       "<matplotlib.axes._subplots.AxesSubplot at 0x196c68400>"
      ]
     },
     "execution_count": 74,
     "metadata": {},
     "output_type": "execute_result"
    },
    {
     "data": {
      "image/png": "[encoded data removed]",
      "text/plain": [
       "<Figure size 432x288 with 1 Axes>"
      ]
     },
     "metadata": {
      "needs_background": "light"
     },
     "output_type": "display_data"
    }
   ],
   "source": [
    "training_df['Engagements'].hist()"
   ]
  },
  {
   "cell_type": "code",
   "execution_count": null,
   "metadata": {},
   "outputs": [],
   "source": []
  }
 ],
 "metadata": {
  "kernelspec": {
   "display_name": "Python 3",
   "language": "python",
   "name": "python3"
  },
  "language_info": {
   "codemirror_mode": {
    "name": "ipython",
    "version": 3
   },
   "file_extension": ".py",
   "mimetype": "text/x-python",
   "name": "python",
   "nbconvert_exporter": "python",
   "pygments_lexer": "ipython3",
   "version": "3.7.3"
  },
  "toc": {
   "base_numbering": 1,
   "nav_menu": {
    "height": "588.984px",
    "width": "796.953px"
   },
   "number_sections": true,
   "sideBar": true,
   "skip_h1_title": false,
   "title_cell": "Table of Contents",
   "title_sidebar": "Contents",
   "toc_cell": false,
   "toc_position": {},
   "toc_section_display": true,
   "toc_window_display": false
  }
 },
 "nbformat": 4,
 "nbformat_minor": 2
}
