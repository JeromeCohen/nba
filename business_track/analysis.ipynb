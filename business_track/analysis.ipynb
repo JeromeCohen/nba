{
 "cells": [
  {
   "cell_type": "code",
   "execution_count": 77,
   "metadata": {},
   "outputs": [],
   "source": [
    "import pandas as pd\n",
    "from sklearn.linear_model import ElasticNet\n",
    "import matplotlib.pyplot as plt\n",
    "from statsmodels.tsa.stattools import adfuller"
   ]
  },
  {
   "cell_type": "code",
   "execution_count": 78,
   "metadata": {},
   "outputs": [
    {
     "name": "stderr",
     "output_type": "stream",
     "text": [
      "[nltk_data] Downloading package stopwords to\n",
      "[nltk_data]     /Users/jeromecohen/nltk_data...\n",
      "[nltk_data]   Package stopwords is already up-to-date!\n",
      "[nltk_data] Downloading package punkt to\n",
      "[nltk_data]     /Users/jeromecohen/nltk_data...\n",
      "[nltk_data]   Package punkt is already up-to-date!\n"
     ]
    }
   ],
   "source": [
    "nltk.download('stopwords')\n",
    "nltk.download('punkt')\n",
    "from nltk.tokenize import word_tokenize\n",
    "from nltk.corpus import stopwords "
   ]
  },
  {
   "cell_type": "code",
   "execution_count": 79,
   "metadata": {},
   "outputs": [],
   "source": [
    "training_df = pd.read_csv('training_set.csv', encoding='ISO-8859-1')"
   ]
  },
  {
   "cell_type": "markdown",
   "metadata": {},
   "source": [
    "# EDA "
   ]
  },
  {
   "cell_type": "code",
   "execution_count": 80,
   "metadata": {},
   "outputs": [
    {
     "data": {
      "text/html": [
       "<div>\n",
       "<style scoped>\n",
       "    .dataframe tbody tr th:only-of-type {\n",
       "        vertical-align: middle;\n",
       "    }\n",
       "\n",
       "    .dataframe tbody tr th {\n",
       "        vertical-align: top;\n",
       "    }\n",
       "\n",
       "    .dataframe thead th {\n",
       "        text-align: right;\n",
       "    }\n",
       "</style>\n",
       "<table border=\"1\" class=\"dataframe\">\n",
       "  <thead>\n",
       "    <tr style=\"text-align: right;\">\n",
       "      <th></th>\n",
       "      <th>Engagements</th>\n",
       "      <th>Followers at Posting</th>\n",
       "      <th>Created</th>\n",
       "      <th>Type</th>\n",
       "      <th>Description</th>\n",
       "    </tr>\n",
       "  </thead>\n",
       "  <tbody>\n",
       "    <tr>\n",
       "      <th>0</th>\n",
       "      <td>502093</td>\n",
       "      <td>36984682</td>\n",
       "      <td>2019-05-21 23:30:51 EDT</td>\n",
       "      <td>Video</td>\n",
       "      <td>The @raptors bench trio of @sergeibaka @norman...</td>\n",
       "    </tr>\n",
       "    <tr>\n",
       "      <th>1</th>\n",
       "      <td>603380</td>\n",
       "      <td>36984682</td>\n",
       "      <td>2019-05-21 22:53:33 EDT</td>\n",
       "      <td>Video</td>\n",
       "      <td>@kyle_lowry7 pulls from deep for the @raptors ...</td>\n",
       "    </tr>\n",
       "    <tr>\n",
       "      <th>2</th>\n",
       "      <td>603380</td>\n",
       "      <td>36984682</td>\n",
       "      <td>2019-05-21 22:19:58 EDT</td>\n",
       "      <td>Video</td>\n",
       "      <td>@k_mid22 with some english on the @bucks dime!</td>\n",
       "    </tr>\n",
       "    <tr>\n",
       "      <th>3</th>\n",
       "      <td>725100</td>\n",
       "      <td>36984682</td>\n",
       "      <td>2019-05-21 22:02:41 EDT</td>\n",
       "      <td>Video</td>\n",
       "      <td>Kawhi punches it home with the left on TNT!</td>\n",
       "    </tr>\n",
       "    <tr>\n",
       "      <th>4</th>\n",
       "      <td>661446</td>\n",
       "      <td>36984682</td>\n",
       "      <td>2019-05-21 20:47:49 EDT</td>\n",
       "      <td>Video</td>\n",
       "      <td>@giannis_an34 goes baseline early to rock the ...</td>\n",
       "    </tr>\n",
       "    <tr>\n",
       "      <th>5</th>\n",
       "      <td>322444</td>\n",
       "      <td>36955156</td>\n",
       "      <td>2019-05-21 14:02:32 EDT</td>\n",
       "      <td>Photo</td>\n",
       "      <td>Congrats to the 2018-19 NBA All-Rookie First T...</td>\n",
       "    </tr>\n",
       "    <tr>\n",
       "      <th>6</th>\n",
       "      <td>722540</td>\n",
       "      <td>36955156</td>\n",
       "      <td>2019-05-21 12:30:53 EDT</td>\n",
       "      <td>Video</td>\n",
       "      <td>The @warriors locked in for four games to adva...</td>\n",
       "    </tr>\n",
       "    <tr>\n",
       "      <th>7</th>\n",
       "      <td>339265</td>\n",
       "      <td>36955156</td>\n",
       "      <td>2019-05-21 08:59:02 EDT</td>\n",
       "      <td>Photo</td>\n",
       "      <td>Will the @bucks take a commanding 3-1 lead... ...</td>\n",
       "    </tr>\n",
       "    <tr>\n",
       "      <th>8</th>\n",
       "      <td>443330</td>\n",
       "      <td>36955156</td>\n",
       "      <td>2019-05-21 00:48:16 EDT</td>\n",
       "      <td>Photo</td>\n",
       "      <td>TAP to SHOP the @warriors Western Conference C...</td>\n",
       "    </tr>\n",
       "    <tr>\n",
       "      <th>9</th>\n",
       "      <td>652193</td>\n",
       "      <td>36955156</td>\n",
       "      <td>2019-05-21 00:38:18 EDT</td>\n",
       "      <td>Video</td>\n",
       "      <td>Hey @stephencurry30... that was the first time...</td>\n",
       "    </tr>\n",
       "  </tbody>\n",
       "</table>\n",
       "</div>"
      ],
      "text/plain": [
       "   Engagements  Followers at Posting                  Created   Type  \\\n",
       "0       502093              36984682  2019-05-21 23:30:51 EDT  Video   \n",
       "1       603380              36984682  2019-05-21 22:53:33 EDT  Video   \n",
       "2       603380              36984682  2019-05-21 22:19:58 EDT  Video   \n",
       "3       725100              36984682  2019-05-21 22:02:41 EDT  Video   \n",
       "4       661446              36984682  2019-05-21 20:47:49 EDT  Video   \n",
       "5       322444              36955156  2019-05-21 14:02:32 EDT  Photo   \n",
       "6       722540              36955156  2019-05-21 12:30:53 EDT  Video   \n",
       "7       339265              36955156  2019-05-21 08:59:02 EDT  Photo   \n",
       "8       443330              36955156  2019-05-21 00:48:16 EDT  Photo   \n",
       "9       652193              36955156  2019-05-21 00:38:18 EDT  Video   \n",
       "\n",
       "                                         Description  \n",
       "0  The @raptors bench trio of @sergeibaka @norman...  \n",
       "1  @kyle_lowry7 pulls from deep for the @raptors ...  \n",
       "2     @k_mid22 with some english on the @bucks dime!  \n",
       "3        Kawhi punches it home with the left on TNT!  \n",
       "4  @giannis_an34 goes baseline early to rock the ...  \n",
       "5  Congrats to the 2018-19 NBA All-Rookie First T...  \n",
       "6  The @warriors locked in for four games to adva...  \n",
       "7  Will the @bucks take a commanding 3-1 lead... ...  \n",
       "8  TAP to SHOP the @warriors Western Conference C...  \n",
       "9  Hey @stephencurry30... that was the first time...  "
      ]
     },
     "execution_count": 80,
     "metadata": {},
     "output_type": "execute_result"
    }
   ],
   "source": [
    "training_df.head(10)"
   ]
  },
  {
   "cell_type": "code",
   "execution_count": 81,
   "metadata": {},
   "outputs": [
    {
     "data": {
      "text/plain": [
       "Engagements              int64\n",
       "Followers at Posting     int64\n",
       "Created                 object\n",
       "Type                    object\n",
       "Description             object\n",
       "dtype: object"
      ]
     },
     "execution_count": 81,
     "metadata": {},
     "output_type": "execute_result"
    }
   ],
   "source": [
    "training_df.dtypes"
   ]
  },
  {
   "cell_type": "code",
   "execution_count": 82,
   "metadata": {},
   "outputs": [
    {
     "data": {
      "image/png": "[encoded data removed]",
      "text/plain": [
       "<Figure size 432x288 with 1 Axes>"
      ]
     },
     "metadata": {
      "needs_background": "light"
     },
     "output_type": "display_data"
    }
   ],
   "source": [
    "x, y = training_df['Engagements'], training_df['Followers at Posting']\n",
    "plt.plot(x, y)\n",
    "plt.show()"
   ]
  },
  {
   "cell_type": "markdown",
   "metadata": {},
   "source": [
    "# Cleaning"
   ]
  },
  {
   "cell_type": "code",
   "execution_count": 83,
   "metadata": {},
   "outputs": [
    {
     "name": "stdout",
     "output_type": "stream",
     "text": [
      "7766\n",
      "7752\n"
     ]
    }
   ],
   "source": [
    "print(len(training_df))\n",
    "training_df.dropna(inplace=True)\n",
    "print(len(training_df))"
   ]
  },
  {
   "cell_type": "code",
   "execution_count": 84,
   "metadata": {},
   "outputs": [],
   "source": [
    "training_df['Created'] = pd.to_datetime(training_df['Created'])"
   ]
  },
  {
   "cell_type": "code",
   "execution_count": 85,
   "metadata": {},
   "outputs": [],
   "source": [
    "def clean_desription(x): \n",
    "    english_stopwords = stopwords.words('english')\n",
    "    tokenized = nltk.word_tokenize(x)\n",
    "    \n",
    "    description = []\n",
    "    for token in tokenized: \n",
    "        if token not in english_stopwords: \n",
    "            description.append(token)\n",
    "            \n",
    "    \n",
    "    return description"
   ]
  },
  {
   "cell_type": "code",
   "execution_count": 86,
   "metadata": {},
   "outputs": [],
   "source": [
    "training_df['description_clean'] = training_df['Description'].apply(lambda x : clean_desription(x))"
   ]
  },
  {
   "cell_type": "code",
   "execution_count": 87,
   "metadata": {},
   "outputs": [
    {
     "data": {
      "text/html": [
       "<div>\n",
       "<style scoped>\n",
       "    .dataframe tbody tr th:only-of-type {\n",
       "        vertical-align: middle;\n",
       "    }\n",
       "\n",
       "    .dataframe tbody tr th {\n",
       "        vertical-align: top;\n",
       "    }\n",
       "\n",
       "    .dataframe thead th {\n",
       "        text-align: right;\n",
       "    }\n",
       "</style>\n",
       "<table border=\"1\" class=\"dataframe\">\n",
       "  <thead>\n",
       "    <tr style=\"text-align: right;\">\n",
       "      <th></th>\n",
       "      <th>Engagements</th>\n",
       "      <th>Followers at Posting</th>\n",
       "      <th>Created</th>\n",
       "      <th>Type</th>\n",
       "      <th>Description</th>\n",
       "      <th>description_clean</th>\n",
       "    </tr>\n",
       "  </thead>\n",
       "  <tbody>\n",
       "    <tr>\n",
       "      <th>0</th>\n",
       "      <td>502093</td>\n",
       "      <td>36984682</td>\n",
       "      <td>2019-05-21 23:30:51-04:00</td>\n",
       "      <td>Video</td>\n",
       "      <td>The @raptors bench trio of @sergeibaka @norman...</td>\n",
       "      <td>[The, @, raptors, bench, trio, @, sergeibaka, ...</td>\n",
       "    </tr>\n",
       "    <tr>\n",
       "      <th>1</th>\n",
       "      <td>603380</td>\n",
       "      <td>36984682</td>\n",
       "      <td>2019-05-21 22:53:33-04:00</td>\n",
       "      <td>Video</td>\n",
       "      <td>@kyle_lowry7 pulls from deep for the @raptors ...</td>\n",
       "      <td>[@, kyle_lowry7, pulls, deep, @, raptors, 4th,...</td>\n",
       "    </tr>\n",
       "    <tr>\n",
       "      <th>2</th>\n",
       "      <td>603380</td>\n",
       "      <td>36984682</td>\n",
       "      <td>2019-05-21 22:19:58-04:00</td>\n",
       "      <td>Video</td>\n",
       "      <td>@k_mid22 with some english on the @bucks dime!</td>\n",
       "      <td>[@, k_mid22, english, @, bucks, dime, !]</td>\n",
       "    </tr>\n",
       "    <tr>\n",
       "      <th>3</th>\n",
       "      <td>725100</td>\n",
       "      <td>36984682</td>\n",
       "      <td>2019-05-21 22:02:41-04:00</td>\n",
       "      <td>Video</td>\n",
       "      <td>Kawhi punches it home with the left on TNT!</td>\n",
       "      <td>[Kawhi, punches, home, left, TNT, !]</td>\n",
       "    </tr>\n",
       "    <tr>\n",
       "      <th>4</th>\n",
       "      <td>661446</td>\n",
       "      <td>36984682</td>\n",
       "      <td>2019-05-21 20:47:49-04:00</td>\n",
       "      <td>Video</td>\n",
       "      <td>@giannis_an34 goes baseline early to rock the ...</td>\n",
       "      <td>[@, giannis_an34, goes, baseline, early, rock,...</td>\n",
       "    </tr>\n",
       "    <tr>\n",
       "      <th>5</th>\n",
       "      <td>322444</td>\n",
       "      <td>36955156</td>\n",
       "      <td>2019-05-21 14:02:32-04:00</td>\n",
       "      <td>Photo</td>\n",
       "      <td>Congrats to the 2018-19 NBA All-Rookie First T...</td>\n",
       "      <td>[Congrats, 2018-19, NBA, All-Rookie, First, Te...</td>\n",
       "    </tr>\n",
       "    <tr>\n",
       "      <th>6</th>\n",
       "      <td>722540</td>\n",
       "      <td>36955156</td>\n",
       "      <td>2019-05-21 12:30:53-04:00</td>\n",
       "      <td>Video</td>\n",
       "      <td>The @warriors locked in for four games to adva...</td>\n",
       "      <td>[The, @, warriors, locked, four, games, advanc...</td>\n",
       "    </tr>\n",
       "    <tr>\n",
       "      <th>7</th>\n",
       "      <td>339265</td>\n",
       "      <td>36955156</td>\n",
       "      <td>2019-05-21 08:59:02-04:00</td>\n",
       "      <td>Photo</td>\n",
       "      <td>Will the @bucks take a commanding 3-1 lead... ...</td>\n",
       "      <td>[Will, @, bucks, take, commanding, 3-1, lead, ...</td>\n",
       "    </tr>\n",
       "    <tr>\n",
       "      <th>8</th>\n",
       "      <td>443330</td>\n",
       "      <td>36955156</td>\n",
       "      <td>2019-05-21 00:48:16-04:00</td>\n",
       "      <td>Photo</td>\n",
       "      <td>TAP to SHOP the @warriors Western Conference C...</td>\n",
       "      <td>[TAP, SHOP, @, warriors, Western, Conference, ...</td>\n",
       "    </tr>\n",
       "    <tr>\n",
       "      <th>9</th>\n",
       "      <td>652193</td>\n",
       "      <td>36955156</td>\n",
       "      <td>2019-05-21 00:38:18-04:00</td>\n",
       "      <td>Video</td>\n",
       "      <td>Hey @stephencurry30... that was the first time...</td>\n",
       "      <td>[Hey, @, stephencurry30, ..., first, time, tea...</td>\n",
       "    </tr>\n",
       "  </tbody>\n",
       "</table>\n",
       "</div>"
      ],
      "text/plain": [
       "   Engagements  Followers at Posting                   Created   Type  \\\n",
       "0       502093              36984682 2019-05-21 23:30:51-04:00  Video   \n",
       "1       603380              36984682 2019-05-21 22:53:33-04:00  Video   \n",
       "2       603380              36984682 2019-05-21 22:19:58-04:00  Video   \n",
       "3       725100              36984682 2019-05-21 22:02:41-04:00  Video   \n",
       "4       661446              36984682 2019-05-21 20:47:49-04:00  Video   \n",
       "5       322444              36955156 2019-05-21 14:02:32-04:00  Photo   \n",
       "6       722540              36955156 2019-05-21 12:30:53-04:00  Video   \n",
       "7       339265              36955156 2019-05-21 08:59:02-04:00  Photo   \n",
       "8       443330              36955156 2019-05-21 00:48:16-04:00  Photo   \n",
       "9       652193              36955156 2019-05-21 00:38:18-04:00  Video   \n",
       "\n",
       "                                         Description  \\\n",
       "0  The @raptors bench trio of @sergeibaka @norman...   \n",
       "1  @kyle_lowry7 pulls from deep for the @raptors ...   \n",
       "2     @k_mid22 with some english on the @bucks dime!   \n",
       "3        Kawhi punches it home with the left on TNT!   \n",
       "4  @giannis_an34 goes baseline early to rock the ...   \n",
       "5  Congrats to the 2018-19 NBA All-Rookie First T...   \n",
       "6  The @warriors locked in for four games to adva...   \n",
       "7  Will the @bucks take a commanding 3-1 lead... ...   \n",
       "8  TAP to SHOP the @warriors Western Conference C...   \n",
       "9  Hey @stephencurry30... that was the first time...   \n",
       "\n",
       "                                   description_clean  \n",
       "0  [The, @, raptors, bench, trio, @, sergeibaka, ...  \n",
       "1  [@, kyle_lowry7, pulls, deep, @, raptors, 4th,...  \n",
       "2           [@, k_mid22, english, @, bucks, dime, !]  \n",
       "3               [Kawhi, punches, home, left, TNT, !]  \n",
       "4  [@, giannis_an34, goes, baseline, early, rock,...  \n",
       "5  [Congrats, 2018-19, NBA, All-Rookie, First, Te...  \n",
       "6  [The, @, warriors, locked, four, games, advanc...  \n",
       "7  [Will, @, bucks, take, commanding, 3-1, lead, ...  \n",
       "8  [TAP, SHOP, @, warriors, Western, Conference, ...  \n",
       "9  [Hey, @, stephencurry30, ..., first, time, tea...  "
      ]
     },
     "execution_count": 87,
     "metadata": {},
     "output_type": "execute_result"
    }
   ],
   "source": [
    "training_df.head(10)"
   ]
  },
  {
   "cell_type": "markdown",
   "metadata": {},
   "source": [
    "# Back to EDA"
   ]
  },
  {
   "cell_type": "code",
   "execution_count": 88,
   "metadata": {},
   "outputs": [
    {
     "data": {
      "text/plain": [
       "Engagements                                 int64\n",
       "Followers at Posting                        int64\n",
       "Created                 datetime64[ns, tzlocal()]\n",
       "Type                                       object\n",
       "Description                                object\n",
       "description_clean                          object\n",
       "dtype: object"
      ]
     },
     "execution_count": 88,
     "metadata": {},
     "output_type": "execute_result"
    }
   ],
   "source": [
    "training_df.dtypes"
   ]
  },
  {
   "cell_type": "code",
   "execution_count": 97,
   "metadata": {},
   "outputs": [],
   "source": [
    "year_df = training_df.groupby(training_df['Created'].dt.year).mean().reset_index()\n",
    "month_df = training_df.groupby(training_df['Created'].dt.month).mean().reset_index()\n",
    "day_df = training_df.groupby(training_df['Created'].dt.day).mean().reset_index()\n",
    "dayofweek_df = training_df.groupby(training_df['Created'].dt.dayofweek).mean().reset_index()"
   ]
  },
  {
   "cell_type": "code",
   "execution_count": 93,
   "metadata": {},
   "outputs": [
    {
     "data": {
      "image/png": "[encoded data removed]",
      "text/plain": [
       "<Figure size 432x288 with 1 Axes>"
      ]
     },
     "metadata": {
      "needs_background": "light"
     },
     "output_type": "display_data"
    }
   ],
   "source": [
    "x, y = year_df['Created'], year_df['Engagements']\n",
    "plt.plot(x, y)\n",
    "plt.show()"
   ]
  },
  {
   "cell_type": "markdown",
   "metadata": {},
   "source": [
    "Below we see a large see much seasonality, most of which can be attributed to the NBA season / offseason. "
   ]
  },
  {
   "cell_type": "code",
   "execution_count": 94,
   "metadata": {},
   "outputs": [
    {
     "data": {
      "image/png": "[encoded data removed]",
      "text/plain": [
       "<Figure size 432x288 with 1 Axes>"
      ]
     },
     "metadata": {
      "needs_background": "light"
     },
     "output_type": "display_data"
    }
   ],
   "source": [
    "x, y = month_df['Created'], month_df['Engagements']\n",
    "plt.plot(x, y)\n",
    "plt.show()"
   ]
  },
  {
   "cell_type": "code",
   "execution_count": 95,
   "metadata": {},
   "outputs": [
    {
     "data": {
      "image/png": "[encoded data removed]",
      "text/plain": [
       "<Figure size 432x288 with 1 Axes>"
      ]
     },
     "metadata": {
      "needs_background": "light"
     },
     "output_type": "display_data"
    }
   ],
   "source": [
    "x, y = day_df['Created'], day_df['Engagements']\n",
    "plt.plot(x, y)\n",
    "plt.show()"
   ]
  },
  {
   "cell_type": "code",
   "execution_count": 98,
   "metadata": {},
   "outputs": [
    {
     "data": {
      "image/png": "[encoded data removed]",
      "text/plain": [
       "<Figure size 432x288 with 1 Axes>"
      ]
     },
     "metadata": {
      "needs_background": "light"
     },
     "output_type": "display_data"
    }
   ],
   "source": [
    "x, y = dayofweek_df['Created'], dayofweek_df['Engagements']\n",
    "plt.plot(x, y)\n",
    "plt.show()"
   ]
  },
  {
   "cell_type": "code",
   "execution_count": null,
   "metadata": {},
   "outputs": [],
   "source": []
  }
 ],
 "metadata": {
  "kernelspec": {
   "display_name": "Python 3",
   "language": "python",
   "name": "python3"
  },
  "language_info": {
   "codemirror_mode": {
    "name": "ipython",
    "version": 3
   },
   "file_extension": ".py",
   "mimetype": "text/x-python",
   "name": "python",
   "nbconvert_exporter": "python",
   "pygments_lexer": "ipython3",
   "version": "3.7.3"
  }
 },
 "nbformat": 4,
 "nbformat_minor": 2
}
